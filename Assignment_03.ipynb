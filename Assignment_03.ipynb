{
  "cells": [
    {
      "cell_type": "markdown",
      "metadata": {
        "id": "view-in-github",
        "colab_type": "text"
      },
      "source": [
        "<a href=\"https://colab.research.google.com/github/gourabdas0987/COLLEGE-assignments-/blob/main/Assignment_03.ipynb\" target=\"_parent\"><img src=\"https://colab.research.google.com/assets/colab-badge.svg\" alt=\"Open In Colab\"/></a>"
      ]
    },
    {
      "cell_type": "code",
      "execution_count": 3,
      "id": "34417704",
      "metadata": {
        "scrolled": true,
        "colab": {
          "base_uri": "https://localhost:8080/"
        },
        "id": "34417704",
        "outputId": "cd15ad96-f146-4e86-bc92-79847a077c2f"
      },
      "outputs": [
        {
          "output_type": "stream",
          "name": "stdout",
          "text": [
            "The required list is given below:-\n",
            "[15, 14, 16, 5, 1, 18, 11, 7, 11, 4, 9, 16, 19, 13, 8, 7, 11, 8, 10, 8, 2, 9, 20, 7, 11, 14, 11, 5, 4, 5]\n",
            "The element count list of L:-\n",
            "[1, 2, 2, 3, 1, 1, 5, 3, 5, 2, 2, 2, 1, 1, 3, 3, 5, 3, 1, 3, 1, 2, 1, 3, 5, 2, 5, 3, 2, 3]\n",
            "...........The End...........\n"
          ]
        }
      ],
      "source": [
        "'''1. Generate a list L that contains 30 random numbers between 1 and 20,\n",
        "create a new list whose first element is how many ones are in L,\n",
        "whose 2nd element is how many twos are in L, etc.'''\n",
        "\n",
        "from random import randint\n",
        "L=[]\n",
        "for i in range(30):\n",
        "    e=randint(1,20)\n",
        "    L.append(e)\n",
        "print('The required list is given below:-')\n",
        "print(L)\n",
        "\n",
        "l=[]\n",
        "for i in L:\n",
        "    c=L.count(i)\n",
        "    l.append(c)\n",
        "print('The element count list of L:-')\n",
        "print(l)\n",
        "print('...........The End...........')"
      ]
    },
    {
      "cell_type": "code",
      "execution_count": 4,
      "id": "aeac64c8",
      "metadata": {
        "colab": {
          "base_uri": "https://localhost:8080/"
        },
        "id": "aeac64c8",
        "outputId": "14c904d6-65fd-4779-b997-9737b88bd38b"
      },
      "outputs": [
        {
          "output_type": "stream",
          "name": "stdout",
          "text": [
            "Enter the number element in the list:- 6\n",
            "Enter numbers between 1 and 12.\n",
            "Enter element-1:- 2\n",
            "Enter element-2:- 6\n",
            "Enter element-3:- 8\n",
            "Enter element-4:- 10\n",
            "Enter element-5:- 11\n",
            "Enter element-6:- 12\n",
            "The entered list:-\n",
            "[2, 6, 8, 10, 11, 12]\n",
            "The modified list:-\n",
            "[2, 6, 8, 10, 10, 10]\n"
          ]
        }
      ],
      "source": [
        "'''2. Ask the user to enter a list containing numbers between 1 and 12. Then replace all of the\n",
        "entries in the list that are greater than 10 with 10.'''\n",
        "\n",
        "n=int(input('Enter the number element in the list:- '))\n",
        "l=[]\n",
        "print('Enter numbers between 1 and 12.')\n",
        "for i in range(n):\n",
        "    e=int(input('Enter element-'+str(i+1)+':- '))\n",
        "    if e<=12:\n",
        "        l.append(e)\n",
        "    else:\n",
        "        e=int(input('Invalid input.\\nEnter again element'+str(i+1)+'(<=12):-'))\n",
        "        while e>12:\n",
        "            e=int(input('Invalid input.\\nEnter again element'+str(i+1)+'(<=12):-'))\n",
        "        l.append(e)\n",
        "print('The entered list:-')\n",
        "print(l)\n",
        "\n",
        "for i in range(n):\n",
        "    if l[i]>10:\n",
        "        l[i]=10\n",
        "print('The modified list:-')\n",
        "print(l)"
      ]
    },
    {
      "cell_type": "code",
      "execution_count": 5,
      "id": "ae407070",
      "metadata": {
        "colab": {
          "base_uri": "https://localhost:8080/"
        },
        "id": "ae407070",
        "outputId": "4da17da9-34df-42e4-dda4-1d68528c627b"
      },
      "outputs": [
        {
          "output_type": "stream",
          "name": "stdout",
          "text": [
            "Enter the number elements in the list:- 3\n",
            "Enter string-1:- GOUROB\n",
            "Enter string-2:- KUMAR\n",
            "Enter string-3:- DAS\n",
            "The entered string:-\n",
            "['GOUROB', 'KUMAR', 'DAS']\n",
            "The modified string:-\n",
            "['OUROB', 'UMAR', 'AS']\n"
          ]
        }
      ],
      "source": [
        "'''3. Ask the user to enter a list of strings. Create a new list that consists of those strings \n",
        "with their first characters removed.'''\n",
        "\n",
        "n=int(input('Enter the number elements in the list:- '))\n",
        "l=[]\n",
        "L=[]\n",
        "for i in range(n):\n",
        "    e=input('Enter string-'+str(i+1)+':- ')\n",
        "    l.append(e)\n",
        "for i in range(n):\n",
        "    L.append(l[i][1:])\n",
        "print('The entered string:-')\n",
        "print(l)\n",
        "print('The modified string:-')\n",
        "print(L)"
      ]
    },
    {
      "cell_type": "code",
      "execution_count": 6,
      "id": "1b37b17a",
      "metadata": {
        "colab": {
          "base_uri": "https://localhost:8080/"
        },
        "id": "1b37b17a",
        "outputId": "8a733419-afda-4285-83b0-6c32c510dbc7"
      },
      "outputs": [
        {
          "output_type": "stream",
          "name": "stdout",
          "text": [
            "Enter the number of elements in the lists:- 3\n",
            "Enter the elements of first list.\n",
            "Enter element-1:- 1\n",
            "Enter element-2:- 4\n",
            "Enter element-3:- 3\n",
            "Enter the elements of second list.\n",
            "Enter element-1:- 4\n",
            "Enter element-2:- 6\n",
            "Enter element-3:- 2\n",
            "The first list.\n",
            "[1, 4, 3]\n",
            "The second list.\n",
            "[4, 6, 2]\n",
            "The list of sumed up elements:-\n",
            "[5, 10, 5]\n"
          ]
        }
      ],
      "source": [
        "'''4. Write a program that takes any two lists L and M of the same size and adds their elements \n",
        "together to form a new list N whose elements are sums of the corresponding elements in L and M. \n",
        "For instance, if L=[3,1,4] and M=[1,5,9], then N should equal [4,6,13]'''\n",
        "\n",
        "n=int(input('Enter the number of elements in the lists:- '))\n",
        "L=[]\n",
        "M=[]\n",
        "N=[]\n",
        "print('Enter the elements of first list.')\n",
        "for i in range(n):\n",
        "    e=int(input('Enter element-'+str(i+1)+':- '))\n",
        "    L.append(e)\n",
        "print('Enter the elements of second list.')\n",
        "for i in range(n):\n",
        "    e=int(input('Enter element-'+str(i+1)+':- '))\n",
        "    M.append(e)\n",
        "for i in range(n):\n",
        "    e=L[i]+M[i]\n",
        "    N.append(e)\n",
        "print('The first list.')\n",
        "print(L)\n",
        "print('The second list.')\n",
        "print(M)\n",
        "print('The list of sumed up elements:-')\n",
        "print(N)"
      ]
    },
    {
      "cell_type": "code",
      "execution_count": 7,
      "id": "d49db0af",
      "metadata": {
        "colab": {
          "base_uri": "https://localhost:8080/"
        },
        "id": "d49db0af",
        "outputId": "9861cdec-b326-4abb-f104-35d4e1b44b63"
      },
      "outputs": [
        {
          "output_type": "stream",
          "name": "stdout",
          "text": [
            "The generated list:-\n",
            "[0, 0, 1, 0, 1, 1, 0, 0, 0, 1, 1, 0, 1, 1, 1, 0, 1, 1, 0, 1, 0, 1, 1, 1, 0, 1, 0, 0, 0, 0, 0, 1, 1, 0, 1, 0, 1, 1, 0, 0, 0, 1, 0, 0, 1, 1, 1, 0, 0, 1, 0, 1, 1, 0, 1, 0, 0, 0, 1, 0, 1, 1, 1, 1, 1, 1, 0, 1, 1, 1, 0, 1, 1, 0, 0, 1, 1, 0, 1, 0]\n",
            "The longest run of zeros in the list = 5\n"
          ]
        }
      ],
      "source": [
        "'''5. Write a program that generates 80 random integers that are either 0 or 1. Then find \n",
        "the longest run of zeros, the largest number of zeros in a row. For instance, the longest \n",
        "run of zeros in [1,0,1,1,0,0,0,0,1,0,0] is 4.'''\n",
        "\n",
        "from random import randint\n",
        "L=[]\n",
        "c=0\n",
        "mc=0\n",
        "for i in range(80):\n",
        "    e=randint(0,1)\n",
        "    L.append(e)\n",
        "for i in L:\n",
        "    if i==0:\n",
        "        c=c+1\n",
        "    else:\n",
        "        if c>mc:\n",
        "            mc=c\n",
        "        c=0\n",
        "print('The generated list:-')\n",
        "print(L)\n",
        "print('The longest run of zeros in the list =',mc)"
      ]
    }
  ],
  "metadata": {
    "kernelspec": {
      "display_name": "Python 3 (ipykernel)",
      "language": "python",
      "name": "python3"
    },
    "language_info": {
      "codemirror_mode": {
        "name": "ipython",
        "version": 3
      },
      "file_extension": ".py",
      "mimetype": "text/x-python",
      "name": "python",
      "nbconvert_exporter": "python",
      "pygments_lexer": "ipython3",
      "version": "3.9.7"
    },
    "colab": {
      "name": "Assignment_03.ipynb",
      "provenance": [],
      "include_colab_link": true
    }
  },
  "nbformat": 4,
  "nbformat_minor": 5
}