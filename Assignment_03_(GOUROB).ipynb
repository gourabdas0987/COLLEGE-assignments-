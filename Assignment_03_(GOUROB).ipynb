{
  "cells": [
    {
      "cell_type": "markdown",
      "metadata": {
        "id": "view-in-github",
        "colab_type": "text"
      },
      "source": [
        "<a href=\"https://colab.research.google.com/github/gourabdas0987/COLLEGE-assignments-/blob/main/Assignment_03_(GOUROB).ipynb\" target=\"_parent\"><img src=\"https://colab.research.google.com/assets/colab-badge.svg\" alt=\"Open In Colab\"/></a>"
      ]
    },
    {
      "cell_type": "markdown",
      "id": "cf9c1051",
      "metadata": {
        "id": "cf9c1051"
      },
      "source": [
        "## 1.Accept a string from the user and count no.of vowels,consonants and special characters\n",
        "Input : abcedfg123@$ Output : vowels: 2\n",
        "              Consonants : 5\n",
        "\t  Special characters : 2\n"
      ]
    },
    {
      "cell_type": "code",
      "execution_count": 1,
      "id": "dc80c940",
      "metadata": {
        "colab": {
          "base_uri": "https://localhost:8080/"
        },
        "id": "dc80c940",
        "outputId": "ee848cab-45b1-434b-d297-a2b54e53e19c"
      },
      "outputs": [
        {
          "output_type": "stream",
          "name": "stdout",
          "text": [
            "Enter any string:- abcedfg123@$\n",
            "Vowels: 2 Consonent: 5 Special Characters: 2\n"
          ]
        }
      ],
      "source": [
        "s=input('Enter any string:- ')\n",
        "v=0\n",
        "c=0\n",
        "sc=0\n",
        "s=s.lower()\n",
        "n=0\n",
        "for i in range(len(s)):\n",
        "    if s[i]>='0' and s[i]<='9':\n",
        "        n=n+1\n",
        "    elif s[i]=='a' or s[i]=='e' or s[i]=='i' or s[i]=='o' or s[i]=='u':\n",
        "        v=v+1\n",
        "    elif s[i]>'a' and s[i]<'z':\n",
        "        c=c+1\n",
        "    else:\n",
        "        sc=sc+1\n",
        "print('Vowels:',v,'Consonent:',c,'Special Characters:',sc)"
      ]
    },
    {
      "cell_type": "markdown",
      "id": "6ab4804c",
      "metadata": {
        "id": "6ab4804c"
      },
      "source": [
        "## 2.Count the no.of pairs of a in the given string(Infosys InfyTQ)\n",
        "    string →  \"abbaaccbbaaa\"\n",
        "    output →  2\n"
      ]
    },
    {
      "cell_type": "code",
      "execution_count": 2,
      "id": "05febf8f",
      "metadata": {
        "colab": {
          "base_uri": "https://localhost:8080/"
        },
        "id": "05febf8f",
        "outputId": "bb8197e6-cc1a-4237-eade-64319fad6c23"
      },
      "outputs": [
        {
          "output_type": "stream",
          "name": "stdout",
          "text": [
            "Enter any string:- abbaaccbbaaa\n",
            "The no. of pairs of a = 2\n"
          ]
        }
      ],
      "source": [
        "s=input('Enter any string:- ')\n",
        "l=[]\n",
        "c=0\n",
        "for i in s:\n",
        "    if i=='a':\n",
        "        c=c+1\n",
        "    else:\n",
        "        n=c//2\n",
        "        l.append(n)\n",
        "        c=0\n",
        "n=c//2\n",
        "l.append(n)\n",
        "r=sum(l)\n",
        "print('The no. of pairs of a =',r)  "
      ]
    },
    {
      "cell_type": "markdown",
      "id": "f92a00fb",
      "metadata": {
        "id": "f92a00fb"
      },
      "source": [
        "## 3.Test case1:\n",
        "        string →  \"((((()()()))))()\"\n",
        "        output →  8\n",
        "## Test case2:\n",
        "        string →  \"((()))()\"\n",
        "        Output →  4\n"
      ]
    },
    {
      "cell_type": "code",
      "execution_count": 4,
      "id": "b48ab328",
      "metadata": {
        "colab": {
          "base_uri": "https://localhost:8080/"
        },
        "id": "b48ab328",
        "outputId": "db516441-004c-4c72-d53f-1018dbbca837"
      },
      "outputs": [
        {
          "output_type": "stream",
          "name": "stdout",
          "text": [
            "Enter parenthesis:- ((()))()\n",
            "Number of valid parenthesis pair:- 4\n"
          ]
        }
      ],
      "source": [
        "s=input('Enter parenthesis:- ')\n",
        "vc=0\n",
        "pc=0\n",
        "i=0\n",
        "while(i<len(s)):\n",
        "    t=s[i]\n",
        "    if(t=='('):\n",
        "        vc=vc+1\n",
        "        pc=pc+1\n",
        "    else:\n",
        "        vc=vc-1\n",
        "    if vc<0:\n",
        "        break\n",
        "    i=i+1\n",
        "if(vc==0):\n",
        "    print('Number of valid parenthesis pair:-',pc)\n",
        "else:\n",
        "    print('Invalid string.')"
      ]
    },
    {
      "cell_type": "markdown",
      "id": "77ecf555",
      "metadata": {
        "id": "77ecf555"
      },
      "source": [
        "## 4.Write a python function to check whether the given number is Adam number or not\n",
        "    Example: \n",
        "    Input : 12\n",
        "    Output : Adam Number\n",
        "    \n",
        "    Explanation: 12*12 = 144\n",
        "    Reverse of 12 is 21 → 21*21 =441\n",
        "    Reverse of 144 == 441\n"
      ]
    },
    {
      "cell_type": "code",
      "execution_count": 9,
      "id": "24292a67",
      "metadata": {
        "colab": {
          "base_uri": "https://localhost:8080/"
        },
        "id": "24292a67",
        "outputId": "aceef941-4e08-48e3-cee2-e9eeadd740fe"
      },
      "outputs": [
        {
          "output_type": "stream",
          "name": "stdout",
          "text": [
            "Enter any number:- 12\n",
            "Adam Number\n"
          ]
        }
      ],
      "source": [
        "n=int(input('Enter any number:- '))\n",
        "sq=n*n\n",
        "rev=int(str(sq)[::-1])\n",
        "rn=int(str(n)[::-1])\n",
        "rsq=rn*rn\n",
        "if rsq==rev:\n",
        "    print('Adam Number')\n",
        "else:\n",
        "    print('XX Not Adam Number. XX')"
      ]
    },
    {
      "cell_type": "markdown",
      "id": "561ca102",
      "metadata": {
        "id": "561ca102"
      },
      "source": [
        "## 5.Given two strings s1 and s2, check if both the strings are anagrams of each other.\n",
        "    Examples:\n",
        "    Input : s1 = \"listen\"\n",
        "            s2 = \"silent\"\n",
        "    Output : The strings are anagrams.\n",
        "\n",
        "    Input : s1 = \"dad\"\n",
        "            s2 = \"bad\"\n",
        "    Output : The strings aren't anagrams."
      ]
    },
    {
      "cell_type": "code",
      "execution_count": 11,
      "id": "2966cbff",
      "metadata": {
        "colab": {
          "base_uri": "https://localhost:8080/"
        },
        "id": "2966cbff",
        "outputId": "8a7d3c03-b638-4c33-8bc1-b6abbd388fe0"
      },
      "outputs": [
        {
          "output_type": "stream",
          "name": "stdout",
          "text": [
            "Enter a string:-dad\n",
            "Enter another string:-bad\n",
            "The strings are not Anagram.\n"
          ]
        }
      ],
      "source": [
        "s1=input('Enter a string:-')\n",
        "s2=input('Enter another string:-')\n",
        "if len(s1)==len(s2):\n",
        "    s1=sorted(s1)\n",
        "    s2=sorted(s2)\n",
        "    if s1==s2:\n",
        "        print('Both the strings are Anagram.')\n",
        "    else:\n",
        "        print('The strings are not Anagram.')\n",
        "else:\n",
        "    print('The strings are not Anagram.')"
      ]
    }
  ],
  "metadata": {
    "kernelspec": {
      "display_name": "Python 3 (ipykernel)",
      "language": "python",
      "name": "python3"
    },
    "language_info": {
      "codemirror_mode": {
        "name": "ipython",
        "version": 3
      },
      "file_extension": ".py",
      "mimetype": "text/x-python",
      "name": "python",
      "nbconvert_exporter": "python",
      "pygments_lexer": "ipython3",
      "version": "3.10.1"
    },
    "colab": {
      "name": "Assignment-03 (GOUROB).ipynb",
      "provenance": [],
      "collapsed_sections": [],
      "include_colab_link": true
    }
  },
  "nbformat": 4,
  "nbformat_minor": 5
}